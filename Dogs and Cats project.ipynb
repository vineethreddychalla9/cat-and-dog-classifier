{
 "cells": [
  {
   "cell_type": "code",
   "execution_count": 32,
   "metadata": {},
   "outputs": [],
   "source": [
    "import numpy as np\n",
    "import pandas as pd\n",
    "%matplotlib inline\n",
    "import matplotlib as mpl\n",
    "import matplotlib.pyplot as plt\n",
    "import os"
   ]
  },
  {
   "cell_type": "code",
   "execution_count": 33,
   "metadata": {},
   "outputs": [],
   "source": [
    "import tensorflow as tf\n",
    "from tensorflow import keras"
   ]
  },
  {
   "cell_type": "code",
   "execution_count": 6,
   "metadata": {},
   "outputs": [],
   "source": [
    "train_dir=r'C:\\Users\\vinee\\train'\n",
    "validation_dir=r'C:\\Users\\vinee\\validation'\n",
    "test_dir=r'C:\\Users\\vinee\\test'"
   ]
  },
  {
   "cell_type": "markdown",
   "metadata": {},
   "source": [
    "### Data Preprocessing\n",
    "\n",
    "1.Read the picture files\n",
    "\n",
    "2.Decode the JPEG content to RGB grids of pixels\n",
    "\n",
    "3.Convert these into floating point tensors\n",
    "\n",
    "4.Rescale the pixel values (between 1 to 255) to [0,1] INTERVAL"
   ]
  },
  {
   "cell_type": "code",
   "execution_count": 4,
   "metadata": {},
   "outputs": [],
   "source": [
    "from tensorflow.keras.preprocessing.image import ImageDataGenerator"
   ]
  },
  {
   "cell_type": "code",
   "execution_count": 5,
   "metadata": {},
   "outputs": [
    {
     "name": "stdout",
     "output_type": "stream",
     "text": [
      "Found 2000 images belonging to 2 classes.\n",
      "Found 1000 images belonging to 2 classes.\n"
     ]
    }
   ],
   "source": [
    "train_datagen=ImageDataGenerator(rescale=1./255)\n",
    "test_datagen=ImageDataGenerator(rescale=1./255)\n",
    "\n",
    "train_generator=train_datagen.flow_from_directory(\n",
    "                    train_dir,\n",
    "                    target_size=(150,150),\n",
    "                    batch_size=20,\n",
    "                    class_mode='binary')\n",
    "\n",
    "validation_generator=test_datagen.flow_from_directory(\n",
    "                    validation_dir,\n",
    "                    target_size=(150,150),\n",
    "                    batch_size=20,\n",
    "                    class_mode='binary')"
   ]
  },
  {
   "cell_type": "code",
   "execution_count": 5,
   "metadata": {},
   "outputs": [],
   "source": [
    "from tensorflow.keras import layers\n",
    "from tensorflow.keras import models"
   ]
  },
  {
   "cell_type": "code",
   "execution_count": 21,
   "metadata": {},
   "outputs": [],
   "source": [
    "model=models.Sequential()\n",
    "model.add(layers.Conv2D(32,(3,3),activation='relu',\n",
    "                        input_shape=(150, 150, 3)))\n",
    "model.add(layers.MaxPooling2D((2,2)))\n",
    "model.add(layers.Conv2D(64,(3,3),activation='relu'))\n",
    "model.add(layers.MaxPooling2D((2,2)))\n",
    "model.add(layers.Conv2D(128,(3,3),activation='relu'))\n",
    "model.add(layers.MaxPooling2D((2,2)))\n",
    "model.add(layers.Conv2D(128,(3,3),activation='relu'))\n",
    "model.add(layers.MaxPooling2D((2,2)))\n",
    "model.add(layers.Flatten())\n",
    "model.add(layers.Dense(512,activation='relu'))\n",
    "model.add(layers.Dense(1,activation='sigmoid'))"
   ]
  },
  {
   "cell_type": "code",
   "execution_count": 22,
   "metadata": {},
   "outputs": [
    {
     "name": "stdout",
     "output_type": "stream",
     "text": [
      "Model: \"sequential_3\"\n",
      "_________________________________________________________________\n",
      "Layer (type)                 Output Shape              Param #   \n",
      "=================================================================\n",
      "conv2d_2 (Conv2D)            (None, 148, 148, 32)      896       \n",
      "_________________________________________________________________\n",
      "max_pooling2d (MaxPooling2D) (None, 74, 74, 32)        0         \n",
      "_________________________________________________________________\n",
      "conv2d_3 (Conv2D)            (None, 72, 72, 64)        18496     \n",
      "_________________________________________________________________\n",
      "max_pooling2d_1 (MaxPooling2 (None, 36, 36, 64)        0         \n",
      "_________________________________________________________________\n",
      "conv2d_4 (Conv2D)            (None, 34, 34, 128)       73856     \n",
      "_________________________________________________________________\n",
      "max_pooling2d_2 (MaxPooling2 (None, 17, 17, 128)       0         \n",
      "_________________________________________________________________\n",
      "conv2d_5 (Conv2D)            (None, 15, 15, 128)       147584    \n",
      "_________________________________________________________________\n",
      "max_pooling2d_3 (MaxPooling2 (None, 7, 7, 128)         0         \n",
      "_________________________________________________________________\n",
      "flatten (Flatten)            (None, 6272)              0         \n",
      "_________________________________________________________________\n",
      "dense (Dense)                (None, 512)               3211776   \n",
      "_________________________________________________________________\n",
      "dense_1 (Dense)              (None, 1)                 513       \n",
      "=================================================================\n",
      "Total params: 3,453,121\n",
      "Trainable params: 3,453,121\n",
      "Non-trainable params: 0\n",
      "_________________________________________________________________\n"
     ]
    }
   ],
   "source": [
    "model.summary()"
   ]
  },
  {
   "cell_type": "code",
   "execution_count": 24,
   "metadata": {},
   "outputs": [],
   "source": [
    "from tensorflow.keras import optimizers\n",
    "model.compile(loss='binary_crossentropy',\n",
    "              optimizer=optimizers.RMSprop(lr=1e-4),\n",
    "              metrics=['acc'])"
   ]
  },
  {
   "cell_type": "code",
   "execution_count": 25,
   "metadata": {},
   "outputs": [
    {
     "name": "stdout",
     "output_type": "stream",
     "text": [
      "Epoch 1/20\n",
      "WARNING:tensorflow:From C:\\Users\\vinee\\Anaconda3\\lib\\site-packages\\tensorflow_core\\python\\ops\\math_grad.py:1394: where (from tensorflow.python.ops.array_ops) is deprecated and will be removed in a future version.\n",
      "Instructions for updating:\n",
      "Use tf.where in 2.0, which has the same broadcast rule as np.where\n",
      "100/100 [==============================] - 103s 1s/step - loss: 0.6892 - acc: 0.5330 - val_loss: 0.7313 - val_acc: 0.5000\n",
      "Epoch 2/20\n",
      "100/100 [==============================] - 90s 903ms/step - loss: 0.6635 - acc: 0.6000 - val_loss: 0.6465 - val_acc: 0.6230\n",
      "Epoch 3/20\n",
      "100/100 [==============================] - 88s 878ms/step - loss: 0.6232 - acc: 0.6610 - val_loss: 0.6145 - val_acc: 0.6550\n",
      "Epoch 4/20\n",
      "100/100 [==============================] - 90s 899ms/step - loss: 0.5828 - acc: 0.6980 - val_loss: 0.6200 - val_acc: 0.6430\n",
      "Epoch 5/20\n",
      "100/100 [==============================] - 88s 883ms/step - loss: 0.5458 - acc: 0.7160 - val_loss: 0.5931 - val_acc: 0.6760\n",
      "Epoch 6/20\n",
      "100/100 [==============================] - 90s 899ms/step - loss: 0.5143 - acc: 0.7380 - val_loss: 0.6549 - val_acc: 0.6440\n",
      "Epoch 7/20\n",
      "100/100 [==============================] - 88s 885ms/step - loss: 0.5010 - acc: 0.7560 - val_loss: 0.5858 - val_acc: 0.6860\n",
      "Epoch 8/20\n",
      "100/100 [==============================] - 89s 885ms/step - loss: 0.4663 - acc: 0.7710 - val_loss: 0.5859 - val_acc: 0.6940\n",
      "Epoch 9/20\n",
      "100/100 [==============================] - 89s 888ms/step - loss: 0.4400 - acc: 0.7965 - val_loss: 0.6209 - val_acc: 0.6770\n",
      "Epoch 10/20\n",
      "100/100 [==============================] - 88s 885ms/step - loss: 0.4203 - acc: 0.8055 - val_loss: 0.5656 - val_acc: 0.7230\n",
      "Epoch 11/20\n",
      "100/100 [==============================] - 92s 916ms/step - loss: 0.3907 - acc: 0.8185 - val_loss: 0.5529 - val_acc: 0.7230\n",
      "Epoch 12/20\n",
      "100/100 [==============================] - 89s 892ms/step - loss: 0.3698 - acc: 0.8320 - val_loss: 0.5912 - val_acc: 0.7040\n",
      "Epoch 13/20\n",
      "100/100 [==============================] - 95s 948ms/step - loss: 0.3444 - acc: 0.8460 - val_loss: 0.6088 - val_acc: 0.7050\n",
      "Epoch 14/20\n",
      "100/100 [==============================] - 93s 929ms/step - loss: 0.3254 - acc: 0.8600 - val_loss: 0.5691 - val_acc: 0.7330\n",
      "Epoch 15/20\n",
      "100/100 [==============================] - 93s 926ms/step - loss: 0.2956 - acc: 0.8720 - val_loss: 0.6099 - val_acc: 0.7190\n",
      "Epoch 16/20\n",
      "100/100 [==============================] - 92s 925ms/step - loss: 0.2675 - acc: 0.8940 - val_loss: 0.5968 - val_acc: 0.7350\n",
      "Epoch 17/20\n",
      "100/100 [==============================] - 122s 1s/step - loss: 0.2539 - acc: 0.9020 - val_loss: 0.6179 - val_acc: 0.7250\n",
      "Epoch 18/20\n",
      "100/100 [==============================] - 129s 1s/step - loss: 0.2282 - acc: 0.9115 - val_loss: 0.6170 - val_acc: 0.7280\n",
      "Epoch 19/20\n",
      "100/100 [==============================] - 131s 1s/step - loss: 0.2177 - acc: 0.9185 - val_loss: 0.6355 - val_acc: 0.7280\n",
      "Epoch 20/20\n",
      "100/100 [==============================] - 110s 1s/step - loss: 0.1941 - acc: 0.9255 - val_loss: 0.6685 - val_acc: 0.7250\n"
     ]
    }
   ],
   "source": [
    "history=model.fit_generator(train_generator,\n",
    "                           steps_per_epoch=100,\n",
    "                           epochs=20,\n",
    "                           validation_data=validation_generator,\n",
    "                           validation_steps=50)"
   ]
  },
  {
   "cell_type": "code",
   "execution_count": 26,
   "metadata": {},
   "outputs": [
    {
     "data": {
      "image/png": "[encoded data removed]",
      "text/plain": [
       "<Figure size 576x360 with 1 Axes>"
      ]
     },
     "metadata": {
      "needs_background": "light"
     },
     "output_type": "display_data"
    }
   ],
   "source": [
    "pd.DataFrame(history.history).plot(figsize=(8,5))\n",
    "plt.grid(True)\n",
    "plt.gca().set_ylim(0,1)\n",
    "plt.show()"
   ]
  },
  {
   "cell_type": "code",
   "execution_count": 27,
   "metadata": {},
   "outputs": [],
   "source": [
    "model.save(\"model.h5\")"
   ]
  },
  {
   "cell_type": "code",
   "execution_count": 28,
   "metadata": {},
   "outputs": [],
   "source": [
    "from tensorflow.keras import backend as K\n",
    "K.clear_session()\n",
    "del model"
   ]
  },
  {
   "cell_type": "code",
   "execution_count": 6,
   "metadata": {},
   "outputs": [
    {
     "name": "stdout",
     "output_type": "stream",
     "text": [
      "Found 2000 images belonging to 2 classes.\n",
      "Found 1000 images belonging to 2 classes.\n"
     ]
    }
   ],
   "source": [
    "train_datagen=ImageDataGenerator(rescale=1./255,\n",
    "                                rotation_range=40,\n",
    "                                width_shift_range=0.2,\n",
    "                                height_shift_range=0.2,\n",
    "                                shear_range=0.2,\n",
    "                                zoom_range=0.2,\n",
    "                                horizontal_flip=True,)\n",
    "test_datagen=ImageDataGenerator(rescale=1./255)\n",
    "\n",
    "train_generator=train_datagen.flow_from_directory(\n",
    "                    train_dir,\n",
    "                    target_size=(150,150),\n",
    "                    batch_size=32,\n",
    "                    class_mode='binary')\n",
    "\n",
    "validation_generator=test_datagen.flow_from_directory(\n",
    "                    validation_dir,\n",
    "                    target_size=(150,150),\n",
    "                    batch_size=32,\n",
    "                    class_mode='binary')"
   ]
  },
  {
   "cell_type": "code",
   "execution_count": 7,
   "metadata": {},
   "outputs": [],
   "source": [
    "model=models.Sequential()\n",
    "model.add(layers.Conv2D(32,(3,3),activation='relu',\n",
    "                        input_shape=(150, 150, 3)))\n",
    "model.add(layers.MaxPooling2D((2,2)))\n",
    "model.add(layers.Conv2D(64,(3,3),activation='relu'))\n",
    "model.add(layers.MaxPooling2D((2,2)))\n",
    "model.add(layers.Conv2D(128,(3,3),activation='relu'))\n",
    "model.add(layers.MaxPooling2D((2,2)))\n",
    "model.add(layers.Conv2D(128,(3,3),activation='relu'))\n",
    "model.add(layers.MaxPooling2D((2,2)))\n",
    "model.add(layers.Flatten())\n",
    "model.add(layers.Dropout(0.5))\n",
    "model.add(layers.Dense(512,activation='relu'))\n",
    "model.add(layers.Dense(1,activation='sigmoid'))"
   ]
  },
  {
   "cell_type": "code",
   "execution_count": 8,
   "metadata": {},
   "outputs": [],
   "source": [
    "from tensorflow.keras import optimizers\n",
    "model.compile(loss='binary_crossentropy',\n",
    "              optimizer=optimizers.RMSprop(lr=1e-4),\n",
    "              metrics=['acc'])"
   ]
  },
  {
   "cell_type": "code",
   "execution_count": 9,
   "metadata": {},
   "outputs": [
    {
     "name": "stdout",
     "output_type": "stream",
     "text": [
      "Epoch 1/50\n",
      "WARNING:tensorflow:From C:\\Users\\vinee\\Anaconda3\\lib\\site-packages\\tensorflow_core\\python\\ops\\math_grad.py:1394: where (from tensorflow.python.ops.array_ops) is deprecated and will be removed in a future version.\n",
      "Instructions for updating:\n",
      "Use tf.where in 2.0, which has the same broadcast rule as np.where\n",
      "100/100 [==============================] - 150s 2s/step - loss: 0.6932 - acc: 0.5035 - val_loss: 0.6841 - val_acc: 0.5508\n",
      "Epoch 2/50\n",
      "100/100 [==============================] - 143s 1s/step - loss: 0.6818 - acc: 0.5506 - val_loss: 0.6653 - val_acc: 0.6098\n",
      "Epoch 3/50\n",
      "100/100 [==============================] - 141s 1s/step - loss: 0.6681 - acc: 0.5900 - val_loss: 0.6491 - val_acc: 0.6161\n",
      "Epoch 4/50\n",
      "100/100 [==============================] - 147s 1s/step - loss: 0.6570 - acc: 0.6065 - val_loss: 0.6278 - val_acc: 0.6301\n",
      "Epoch 5/50\n",
      "100/100 [==============================] - 143s 1s/step - loss: 0.6347 - acc: 0.6408 - val_loss: 0.6324 - val_acc: 0.6142\n",
      "Epoch 6/50\n",
      "100/100 [==============================] - 125s 1s/step - loss: 0.6283 - acc: 0.6452 - val_loss: 0.5811 - val_acc: 0.6929\n",
      "Epoch 7/50\n",
      "100/100 [==============================] - 137s 1s/step - loss: 0.6047 - acc: 0.6768 - val_loss: 0.5785 - val_acc: 0.6808\n",
      "Epoch 8/50\n",
      "100/100 [==============================] - 167s 2s/step - loss: 0.6109 - acc: 0.6624 - val_loss: 0.5988 - val_acc: 0.6574\n",
      "Epoch 9/50\n",
      "100/100 [==============================] - 162s 2s/step - loss: 0.6002 - acc: 0.6812 - val_loss: 0.5614 - val_acc: 0.7024\n",
      "Epoch 10/50\n",
      "100/100 [==============================] - 149s 1s/step - loss: 0.5894 - acc: 0.6824 - val_loss: 0.5497 - val_acc: 0.7113\n",
      "Epoch 11/50\n",
      "100/100 [==============================] - 146s 1s/step - loss: 0.5817 - acc: 0.6979 - val_loss: 0.5677 - val_acc: 0.7018\n",
      "Epoch 12/50\n",
      "100/100 [==============================] - 140s 1s/step - loss: 0.5806 - acc: 0.6944 - val_loss: 0.7135 - val_acc: 0.6282\n",
      "Epoch 13/50\n",
      "100/100 [==============================] - 145s 1s/step - loss: 0.5653 - acc: 0.7033 - val_loss: 0.5523 - val_acc: 0.7151\n",
      "Epoch 14/50\n",
      "100/100 [==============================] - 137s 1s/step - loss: 0.5685 - acc: 0.7041 - val_loss: 0.5244 - val_acc: 0.7151\n",
      "Epoch 15/50\n",
      "100/100 [==============================] - 139s 1s/step - loss: 0.5535 - acc: 0.7210 - val_loss: 0.5777 - val_acc: 0.6878\n",
      "Epoch 16/50\n",
      "100/100 [==============================] - 141s 1s/step - loss: 0.5494 - acc: 0.7178 - val_loss: 0.5121 - val_acc: 0.7329\n",
      "Epoch 17/50\n",
      "100/100 [==============================] - 142s 1s/step - loss: 0.5427 - acc: 0.7286 - val_loss: 0.5282 - val_acc: 0.7341\n",
      "Epoch 18/50\n",
      "100/100 [==============================] - 136s 1s/step - loss: 0.5354 - acc: 0.7244 - val_loss: 0.5417 - val_acc: 0.7240\n",
      "Epoch 19/50\n",
      "100/100 [==============================] - 137s 1s/step - loss: 0.5278 - acc: 0.7334 - val_loss: 0.4923 - val_acc: 0.7697\n",
      "Epoch 20/50\n",
      "100/100 [==============================] - 137s 1s/step - loss: 0.5459 - acc: 0.7274 - val_loss: 0.4994 - val_acc: 0.7418\n",
      "Epoch 21/50\n",
      "100/100 [==============================] - 128s 1s/step - loss: 0.5257 - acc: 0.7392 - val_loss: 0.5093 - val_acc: 0.7449\n",
      "Epoch 22/50\n",
      "100/100 [==============================] - 136s 1s/step - loss: 0.5276 - acc: 0.7443 - val_loss: 0.5080 - val_acc: 0.7411\n",
      "Epoch 23/50\n",
      "100/100 [==============================] - 130s 1s/step - loss: 0.5198 - acc: 0.7378 - val_loss: 0.5778 - val_acc: 0.7075\n",
      "Epoch 24/50\n",
      "100/100 [==============================] - 125s 1s/step - loss: 0.5155 - acc: 0.7440 - val_loss: 0.4783 - val_acc: 0.7614\n",
      "Epoch 25/50\n",
      "100/100 [==============================] - 133s 1s/step - loss: 0.5172 - acc: 0.7418 - val_loss: 0.4920 - val_acc: 0.7481\n",
      "Epoch 26/50\n",
      "100/100 [==============================] - 130s 1s/step - loss: 0.5055 - acc: 0.7462 - val_loss: 0.4808 - val_acc: 0.7671\n",
      "Epoch 27/50\n",
      "100/100 [==============================] - 126s 1s/step - loss: 0.5051 - acc: 0.7585 - val_loss: 0.4755 - val_acc: 0.7557\n",
      "Epoch 28/50\n",
      "100/100 [==============================] - 127s 1s/step - loss: 0.5035 - acc: 0.7453 - val_loss: 0.4808 - val_acc: 0.7582\n",
      "Epoch 29/50\n",
      "100/100 [==============================] - 124s 1s/step - loss: 0.4816 - acc: 0.7639 - val_loss: 0.5052 - val_acc: 0.7608\n",
      "Epoch 30/50\n",
      "100/100 [==============================] - 124s 1s/step - loss: 0.4996 - acc: 0.7585 - val_loss: 0.4877 - val_acc: 0.7798\n",
      "Epoch 31/50\n",
      "100/100 [==============================] - 124s 1s/step - loss: 0.4891 - acc: 0.7601 - val_loss: 0.4925 - val_acc: 0.7614\n",
      "Epoch 32/50\n",
      "100/100 [==============================] - 125s 1s/step - loss: 0.4880 - acc: 0.7607 - val_loss: 0.4987 - val_acc: 0.7589\n",
      "Epoch 33/50\n",
      "100/100 [==============================] - 132s 1s/step - loss: 0.4952 - acc: 0.7547 - val_loss: 0.5886 - val_acc: 0.7126\n",
      "Epoch 34/50\n",
      "100/100 [==============================] - 140s 1s/step - loss: 0.4804 - acc: 0.7764 - val_loss: 0.4689 - val_acc: 0.7703\n",
      "Epoch 35/50\n",
      "100/100 [==============================] - 138s 1s/step - loss: 0.4811 - acc: 0.7626 - val_loss: 0.5181 - val_acc: 0.7373\n",
      "Epoch 36/50\n",
      "100/100 [==============================] - 134s 1s/step - loss: 0.4792 - acc: 0.7710 - val_loss: 0.4618 - val_acc: 0.7659\n",
      "Epoch 37/50\n",
      "100/100 [==============================] - 149s 1s/step - loss: 0.4746 - acc: 0.7693 - val_loss: 0.4664 - val_acc: 0.7792\n",
      "Epoch 38/50\n",
      "100/100 [==============================] - 154s 2s/step - loss: 0.4715 - acc: 0.7660 - val_loss: 0.4459 - val_acc: 0.7951\n",
      "Epoch 39/50\n",
      "100/100 [==============================] - 153s 2s/step - loss: 0.4684 - acc: 0.7787 - val_loss: 0.4428 - val_acc: 0.7963\n",
      "Epoch 40/50\n",
      "100/100 [==============================] - 152s 2s/step - loss: 0.4727 - acc: 0.7707 - val_loss: 0.4530 - val_acc: 0.7836\n",
      "Epoch 41/50\n",
      "100/100 [==============================] - 159s 2s/step - loss: 0.4519 - acc: 0.7841 - val_loss: 0.4545 - val_acc: 0.7963\n",
      "Epoch 42/50\n",
      "100/100 [==============================] - 155s 2s/step - loss: 0.4566 - acc: 0.7828 - val_loss: 0.4993 - val_acc: 0.7614\n",
      "Epoch 43/50\n",
      "100/100 [==============================] - 151s 2s/step - loss: 0.4523 - acc: 0.7915 - val_loss: 0.4584 - val_acc: 0.7893\n",
      "Epoch 44/50\n",
      "100/100 [==============================] - 158s 2s/step - loss: 0.4578 - acc: 0.7850 - val_loss: 0.4466 - val_acc: 0.7919\n",
      "Epoch 45/50\n",
      "100/100 [==============================] - 151s 2s/step - loss: 0.4539 - acc: 0.7854 - val_loss: 0.4238 - val_acc: 0.8096\n",
      "Epoch 46/50\n",
      "100/100 [==============================] - 142s 1s/step - loss: 0.4464 - acc: 0.7893 - val_loss: 0.4197 - val_acc: 0.7951\n",
      "Epoch 47/50\n",
      "100/100 [==============================] - 139s 1s/step - loss: 0.4411 - acc: 0.7992 - val_loss: 0.4308 - val_acc: 0.8046\n",
      "Epoch 48/50\n",
      "100/100 [==============================] - 136s 1s/step - loss: 0.4466 - acc: 0.7808 - val_loss: 0.4469 - val_acc: 0.7951\n",
      "Epoch 49/50\n",
      "100/100 [==============================] - 138s 1s/step - loss: 0.4314 - acc: 0.8002 - val_loss: 0.4617 - val_acc: 0.7779\n",
      "Epoch 50/50\n",
      "100/100 [==============================] - 131s 1s/step - loss: 0.4327 - acc: 0.7996 - val_loss: 0.4457 - val_acc: 0.8008\n"
     ]
    }
   ],
   "source": [
    "history=model.fit_generator(train_generator,\n",
    "                           steps_per_epoch=100,\n",
    "                           epochs=50,\n",
    "                           validation_data=validation_generator,\n",
    "                           validation_steps=50)"
   ]
  },
  {
   "cell_type": "code",
   "execution_count": 10,
   "metadata": {},
   "outputs": [],
   "source": [
    "model.save(\"modelcats.h5\")"
   ]
  },
  {
   "cell_type": "markdown",
   "metadata": {},
   "source": [
    "## VGG16"
   ]
  },
  {
   "cell_type": "code",
   "execution_count": 2,
   "metadata": {},
   "outputs": [],
   "source": [
    "from tensorflow.keras.preprocessing.image import ImageDataGenerator"
   ]
  },
  {
   "cell_type": "code",
   "execution_count": 7,
   "metadata": {},
   "outputs": [
    {
     "name": "stdout",
     "output_type": "stream",
     "text": [
      "Found 2000 images belonging to 2 classes.\n",
      "Found 1000 images belonging to 2 classes.\n"
     ]
    }
   ],
   "source": [
    "train_datagen=ImageDataGenerator(rescale=1./255,\n",
    "                                rotation_range=40,\n",
    "                                width_shift_range=0.2,\n",
    "                                height_shift_range=0.2,\n",
    "                                shear_range=0.2,\n",
    "                                zoom_range=0.2,\n",
    "                                horizontal_flip=True)\n",
    "test_datagen=ImageDataGenerator(rescale=1./255)\n",
    "train_generator=train_datagen.flow_from_directory(train_dir,\n",
    "                                                 target_size=(150,150),\n",
    "                                                 batch_size=20,\n",
    "                                                 class_mode='binary')\n",
    "validation_generator=test_datagen.flow_from_directory(validation_dir,\n",
    "                                                 target_size=(150,150),\n",
    "                                                 batch_size=20,\n",
    "                                                 class_mode='binary')"
   ]
  },
  {
   "cell_type": "code",
   "execution_count": 9,
   "metadata": {},
   "outputs": [
    {
     "name": "stdout",
     "output_type": "stream",
     "text": [
      "Downloading data from https://github.com/fchollet/deep-learning-models/releases/download/v0.1/vgg16_weights_tf_dim_ordering_tf_kernels_notop.h5\n",
      "58892288/58889256 [==============================] - 65s 1us/step\n"
     ]
    }
   ],
   "source": [
    "from tensorflow.keras.applications import VGG16\n",
    "conv_base=VGG16(weights='imagenet',\n",
    "               include_top=False,\n",
    "               input_shape=(150,150,3))"
   ]
  },
  {
   "cell_type": "code",
   "execution_count": 10,
   "metadata": {},
   "outputs": [
    {
     "name": "stdout",
     "output_type": "stream",
     "text": [
      "Model: \"vgg16\"\n",
      "_________________________________________________________________\n",
      "Layer (type)                 Output Shape              Param #   \n",
      "=================================================================\n",
      "input_1 (InputLayer)         [(None, 150, 150, 3)]     0         \n",
      "_________________________________________________________________\n",
      "block1_conv1 (Conv2D)        (None, 150, 150, 64)      1792      \n",
      "_________________________________________________________________\n",
      "block1_conv2 (Conv2D)        (None, 150, 150, 64)      36928     \n",
      "_________________________________________________________________\n",
      "block1_pool (MaxPooling2D)   (None, 75, 75, 64)        0         \n",
      "_________________________________________________________________\n",
      "block2_conv1 (Conv2D)        (None, 75, 75, 128)       73856     \n",
      "_________________________________________________________________\n",
      "block2_conv2 (Conv2D)        (None, 75, 75, 128)       147584    \n",
      "_________________________________________________________________\n",
      "block2_pool (MaxPooling2D)   (None, 37, 37, 128)       0         \n",
      "_________________________________________________________________\n",
      "block3_conv1 (Conv2D)        (None, 37, 37, 256)       295168    \n",
      "_________________________________________________________________\n",
      "block3_conv2 (Conv2D)        (None, 37, 37, 256)       590080    \n",
      "_________________________________________________________________\n",
      "block3_conv3 (Conv2D)        (None, 37, 37, 256)       590080    \n",
      "_________________________________________________________________\n",
      "block3_pool (MaxPooling2D)   (None, 18, 18, 256)       0         \n",
      "_________________________________________________________________\n",
      "block4_conv1 (Conv2D)        (None, 18, 18, 512)       1180160   \n",
      "_________________________________________________________________\n",
      "block4_conv2 (Conv2D)        (None, 18, 18, 512)       2359808   \n",
      "_________________________________________________________________\n",
      "block4_conv3 (Conv2D)        (None, 18, 18, 512)       2359808   \n",
      "_________________________________________________________________\n",
      "block4_pool (MaxPooling2D)   (None, 9, 9, 512)         0         \n",
      "_________________________________________________________________\n",
      "block5_conv1 (Conv2D)        (None, 9, 9, 512)         2359808   \n",
      "_________________________________________________________________\n",
      "block5_conv2 (Conv2D)        (None, 9, 9, 512)         2359808   \n",
      "_________________________________________________________________\n",
      "block5_conv3 (Conv2D)        (None, 9, 9, 512)         2359808   \n",
      "_________________________________________________________________\n",
      "block5_pool (MaxPooling2D)   (None, 4, 4, 512)         0         \n",
      "=================================================================\n",
      "Total params: 14,714,688\n",
      "Trainable params: 14,714,688\n",
      "Non-trainable params: 0\n",
      "_________________________________________________________________\n"
     ]
    }
   ],
   "source": [
    "conv_base.summary()"
   ]
  },
  {
   "cell_type": "code",
   "execution_count": 12,
   "metadata": {},
   "outputs": [],
   "source": [
    "from tensorflow.keras import models\n",
    "from tensorflow.keras import layers\n",
    "model=models.Sequential()\n",
    "model.add(conv_base)\n",
    "model.add(layers.Flatten())\n",
    "model.add(layers.Dense(256,activation='relu'))\n",
    "model.add(layers.Dense(1,activation='sigmoid'))"
   ]
  },
  {
   "cell_type": "code",
   "execution_count": 13,
   "metadata": {},
   "outputs": [
    {
     "name": "stdout",
     "output_type": "stream",
     "text": [
      "Model: \"sequential\"\n",
      "_________________________________________________________________\n",
      "Layer (type)                 Output Shape              Param #   \n",
      "=================================================================\n",
      "vgg16 (Model)                (None, 4, 4, 512)         14714688  \n",
      "_________________________________________________________________\n",
      "flatten (Flatten)            (None, 8192)              0         \n",
      "_________________________________________________________________\n",
      "dense (Dense)                (None, 256)               2097408   \n",
      "_________________________________________________________________\n",
      "dense_1 (Dense)              (None, 1)                 257       \n",
      "=================================================================\n",
      "Total params: 16,812,353\n",
      "Trainable params: 16,812,353\n",
      "Non-trainable params: 0\n",
      "_________________________________________________________________\n"
     ]
    }
   ],
   "source": [
    "model.summary()"
   ]
  },
  {
   "cell_type": "code",
   "execution_count": 14,
   "metadata": {},
   "outputs": [],
   "source": [
    "from tensorflow.keras import optimizers\n",
    "model.compile(loss='binary_crossentropy',\n",
    "             optimizer=optimizers.RMSprop(lr=2e-5),\n",
    "             metrics=['acc'])"
   ]
  },
  {
   "cell_type": "code",
   "execution_count": 17,
   "metadata": {},
   "outputs": [],
   "source": [
    "checkpoint_cb=keras.callbacks.ModelCheckpoint(\"CNN_project_Model_vgg16.h5\",save_best_only=True)"
   ]
  },
  {
   "cell_type": "code",
   "execution_count": 19,
   "metadata": {},
   "outputs": [
    {
     "name": "stdout",
     "output_type": "stream",
     "text": [
      "Epoch 1/2\n",
      "WARNING:tensorflow:From C:\\Users\\vinee\\Anaconda3\\lib\\site-packages\\tensorflow_core\\python\\ops\\math_grad.py:1394: where (from tensorflow.python.ops.array_ops) is deprecated and will be removed in a future version.\n",
      "Instructions for updating:\n",
      "Use tf.where in 2.0, which has the same broadcast rule as np.where\n",
      "100/100 [==============================] - 1102s 11s/step - loss: 0.4778 - acc: 0.7685 - val_loss: 0.2104 - val_acc: 0.9220\n",
      "Epoch 2/2\n",
      "100/100 [==============================] - 1015s 10s/step - loss: 0.2866 - acc: 0.8740 - val_loss: 0.1408 - val_acc: 0.9400\n"
     ]
    }
   ],
   "source": [
    "history=model.fit_generator(train_generator,\n",
    "                           steps_per_epoch=100,\n",
    "                           epochs=2,\n",
    "                           validation_data=validation_generator,\n",
    "                           validation_steps=50,\n",
    "                           callbacks=[checkpoint_cb])"
   ]
  },
  {
   "cell_type": "code",
   "execution_count": 20,
   "metadata": {},
   "outputs": [],
   "source": [
    "hist_df=pd.DataFrame(history.history)"
   ]
  },
  {
   "cell_type": "code",
   "execution_count": 21,
   "metadata": {},
   "outputs": [],
   "source": [
    "hist_csv_file='history.csv'\n",
    "with open(hist_csv_file,mode='w') as f:\n",
    "    hist_df.to_csv(f)"
   ]
  },
  {
   "cell_type": "code",
   "execution_count": 23,
   "metadata": {},
   "outputs": [
    {
     "name": "stdout",
     "output_type": "stream",
     "text": [
      "Found 1000 images belonging to 2 classes.\n"
     ]
    }
   ],
   "source": [
    "test_generator=test_datagen.flow_from_directory(test_dir,\n",
    "                                               target_size=(150,150),\n",
    "                                               batch_size=20,\n",
    "                                               class_mode='binary')"
   ]
  },
  {
   "cell_type": "code",
   "execution_count": 24,
   "metadata": {},
   "outputs": [
    {
     "data": {
      "text/plain": [
       "[0.14396967550739645, 0.937]"
      ]
     },
     "execution_count": 24,
     "metadata": {},
     "output_type": "execute_result"
    }
   ],
   "source": [
    "model.evaluate_generator(test_generator,steps=50)"
   ]
  },
  {
   "cell_type": "code",
   "execution_count": 3,
   "metadata": {},
   "outputs": [
    {
     "name": "stdout",
     "output_type": "stream",
     "text": [
      "dog\n"
     ]
    }
   ],
   "source": [
    "# make a prediction for a new image.\n",
    "from tensorflow import keras\n",
    "from tensorflow.keras.preprocessing.image import load_img\n",
    "from tensorflow.keras.preprocessing.image import img_to_array\n",
    "from tensorflow.keras.models import load_model\n",
    "\n",
    "categories=[\"cat\",\"dog\"]\n",
    "\n",
    "# load and prepare the image\n",
    "def load_image(filename):\n",
    "    # load the image\n",
    "    img = load_img(filename, target_size=(150, 150))\n",
    "    # convert to array\n",
    "    img = img_to_array(img)\n",
    "    # reshape into a single sample with 3 channels\n",
    "    img = img.reshape(1, 150, 150, 3)\n",
    "    # center pixel data\n",
    "    img = img.astype('float32')\n",
    "    img = img - [123.68, 116.779, 103.939]\n",
    "    #Sum up the intensities of the training set for each color channel separately and divide by the total number of pixels. You can do that manually in python with x_train.mean(axis=(0,1,2)).\n",
    "    #Why: Once we know the mean, we can subtract it from all pixel values so the intensities are centered at 0. this helps to increase training speed and accuracy.\n",
    "    return img\n",
    "\n",
    "# load an image and predict the class\n",
    "def run_example():\n",
    "    # load the image\n",
    "    img = load_image('dogtest.jpg')\n",
    "    # load model\n",
    "    model = load_model('CNN_project_Model_vgg16.h5')\n",
    "    # predict the class\n",
    "    result = model.predict(img)\n",
    "    print(categories[int(result[0])])\n",
    "\n",
    "run_example()"
   ]
  },
  {
   "cell_type": "code",
   "execution_count": null,
   "metadata": {},
   "outputs": [],
   "source": []
  }
 ],
 "metadata": {
  "kernelspec": {
   "display_name": "Python 3",
   "language": "python",
   "name": "python3"
  },
  "language_info": {
   "codemirror_mode": {
    "name": "ipython",
    "version": 3
   },
   "file_extension": ".py",
   "mimetype": "text/x-python",
   "name": "python",
   "nbconvert_exporter": "python",
   "pygments_lexer": "ipython3",
   "version": "3.7.4"
  }
 },
 "nbformat": 4,
 "nbformat_minor": 2
}
